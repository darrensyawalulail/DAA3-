{
  "nbformat": 4,
  "nbformat_minor": 0,
  "metadata": {
    "colab": {
      "provenance": []
    },
    "kernelspec": {
      "name": "python3",
      "display_name": "Python 3"
    },
    "language_info": {
      "name": "python"
    }
  },
  "cells": [
    {
      "cell_type": "code",
      "execution_count": 15,
      "metadata": {
        "colab": {
          "base_uri": "https://localhost:8080/"
        },
        "id": "vm0cQjxEKRsE",
        "outputId": "2d68588a-41e8-48b3-fe2d-69d9332a9b5e"
      },
      "outputs": [
        {
          "output_type": "stream",
          "name": "stdout",
          "text": [
            "['Darren Alfarrel Syawalulail', 2022071011, 'Informatika', 'Desain dan Analisis Algoritma', '2023-09-13', 'Univeritas pembangunan Jaya']\n"
          ]
        }
      ],
      "source": [
        "import datetime\n",
        "tanggal_hari_ini = str (datetime.date.today())\n",
        "aList =[\"Darren Alfarrel Syawalulail\",2022071011, \"Informatika\", \"Desain dan Analisis Algoritma\",tanggal_hari_ini, \"Univeritas pembangunan Jaya\"]\n",
        "print(aList)"
      ]
    },
    {
      "cell_type": "code",
      "source": [
        "bin_colors=['White','Green','Blue','Black','Red']\n",
        "bin_colors[2]"
      ],
      "metadata": {
        "colab": {
          "base_uri": "https://localhost:8080/",
          "height": 35
        },
        "id": "4mLBRbWvO6u8",
        "outputId": "98330411-633f-4145-d78d-363d74de6563"
      },
      "execution_count": 18,
      "outputs": [
        {
          "output_type": "execute_result",
          "data": {
            "text/plain": [
              "'Blue'"
            ],
            "application/vnd.google.colaboratory.intrinsic+json": {
              "type": "string"
            }
          },
          "metadata": {},
          "execution_count": 18
        }
      ]
    },
    {
      "cell_type": "code",
      "source": [
        "print(aList[5])"
      ],
      "metadata": {
        "colab": {
          "base_uri": "https://localhost:8080/"
        },
        "id": "tnFgSFrBQuXo",
        "outputId": "6c50e5db-98c0-4842-9c8c-217247c963ec"
      },
      "execution_count": 19,
      "outputs": [
        {
          "output_type": "stream",
          "name": "stdout",
          "text": [
            "Univeritas pembangunan Jaya\n"
          ]
        }
      ]
    },
    {
      "cell_type": "code",
      "source": [
        "print(aList[1])"
      ],
      "metadata": {
        "colab": {
          "base_uri": "https://localhost:8080/"
        },
        "id": "it_iWxCiSZ5X",
        "outputId": "171d5ac1-a80d-4d16-faf5-9ed74b2fd4db"
      },
      "execution_count": 20,
      "outputs": [
        {
          "output_type": "stream",
          "name": "stdout",
          "text": [
            "2022071011\n"
          ]
        }
      ]
    },
    {
      "cell_type": "code",
      "source": [
        "bin_colors[0:2]"
      ],
      "metadata": {
        "colab": {
          "base_uri": "https://localhost:8080/"
        },
        "id": "N75iS_rrUFi0",
        "outputId": "f4e70fe0-0d35-47e5-e9af-33b16434d9b5"
      },
      "execution_count": 28,
      "outputs": [
        {
          "output_type": "execute_result",
          "data": {
            "text/plain": [
              "['White', 'Green']"
            ]
          },
          "metadata": {},
          "execution_count": 28
        }
      ]
    },
    {
      "cell_type": "code",
      "source": [
        "aList[1:3]"
      ],
      "metadata": {
        "colab": {
          "base_uri": "https://localhost:8080/"
        },
        "id": "EAxVJIkkS7dy",
        "outputId": "2ff74394-b21d-4f92-9ea6-a756ae5f503a"
      },
      "execution_count": 26,
      "outputs": [
        {
          "output_type": "execute_result",
          "data": {
            "text/plain": [
              "[2022071011, 'Informatika']"
            ]
          },
          "metadata": {},
          "execution_count": 26
        }
      ]
    },
    {
      "cell_type": "code",
      "source": [
        "for aColor in bin_colors:\n",
        "  \tprint(aColor + \" Square\")"
      ],
      "metadata": {
        "colab": {
          "base_uri": "https://localhost:8080/"
        },
        "id": "hhvonnWRUeBp",
        "outputId": "91ee8e4c-87b4-4e03-b258-334438e0ae77"
      },
      "execution_count": 35,
      "outputs": [
        {
          "output_type": "stream",
          "name": "stdout",
          "text": [
            "White Square\n",
            "Green Square\n",
            "Blue Square\n",
            "Black Square\n",
            "Red Square\n"
          ]
        }
      ]
    },
    {
      "cell_type": "code",
      "source": [
        "for dataMahasiswa in aList:\n",
        "    print(dataMahasiswa , \"square\")"
      ],
      "metadata": {
        "colab": {
          "base_uri": "https://localhost:8080/"
        },
        "id": "D3WkycZdYVBY",
        "outputId": "c78e966b-a119-4853-e3d4-943953541abf"
      },
      "execution_count": 41,
      "outputs": [
        {
          "output_type": "stream",
          "name": "stdout",
          "text": [
            "Darren Alfarrel Syawalulail square\n",
            "2022071011 square\n",
            "Informatika square\n",
            "Desain dan Analisis Algoritma square\n",
            "2023-09-13 square\n",
            "Univeritas pembangunan Jaya square\n"
          ]
        }
      ]
    },
    {
      "cell_type": "code",
      "source": [
        "for dataMahasiswa in aList:\n",
        "    print(\"UPJ\" , dataMahasiswa)"
      ],
      "metadata": {
        "colab": {
          "base_uri": "https://localhost:8080/"
        },
        "id": "TvOzhD6tWDKq",
        "outputId": "aa657200-aed0-4725-fc77-e87984021bce"
      },
      "execution_count": 40,
      "outputs": [
        {
          "output_type": "stream",
          "name": "stdout",
          "text": [
            "UPJ Darren Alfarrel Syawalulail\n",
            "UPJ 2022071011\n",
            "UPJ Informatika\n",
            "UPJ Desain dan Analisis Algoritma\n",
            "UPJ 2023-09-13\n",
            "UPJ Univeritas pembangunan Jaya\n"
          ]
        }
      ]
    },
    {
      "cell_type": "code",
      "source": [
        "bin_colors[1]"
      ],
      "metadata": {
        "colab": {
          "base_uri": "https://localhost:8080/",
          "height": 35
        },
        "id": "_37RQAX4bYuD",
        "outputId": "038ba2ec-bc94-4acc-a493-a1daf144b765"
      },
      "execution_count": 44,
      "outputs": [
        {
          "output_type": "execute_result",
          "data": {
            "text/plain": [
              "'Green'"
            ],
            "application/vnd.google.colaboratory.intrinsic+json": {
              "type": "string"
            }
          },
          "metadata": {},
          "execution_count": 44
        }
      ]
    },
    {
      "cell_type": "code",
      "source": [
        "bin_colors[0:]"
      ],
      "metadata": {
        "colab": {
          "base_uri": "https://localhost:8080/"
        },
        "id": "hcFCeBk1cHRH",
        "outputId": "ddca0e37-1e9c-4b1f-bbb5-47eaadf04d02"
      },
      "execution_count": 46,
      "outputs": [
        {
          "output_type": "execute_result",
          "data": {
            "text/plain": [
              "['White', 'Green', 'Blue', 'Black', 'Red']"
            ]
          },
          "metadata": {},
          "execution_count": 46
        }
      ]
    },
    {
      "cell_type": "code",
      "source": [
        "bin_UPJ=[\"Universitas\",\"Pembangunan\",\"Jaya\"]\n",
        "bin_UPJ"
      ],
      "metadata": {
        "colab": {
          "base_uri": "https://localhost:8080/"
        },
        "id": "zIKh5UzNcOnt",
        "outputId": "7f9dbdca-584f-4898-a9e7-50be153639ca"
      },
      "execution_count": 50,
      "outputs": [
        {
          "output_type": "execute_result",
          "data": {
            "text/plain": [
              "['Universitas', 'Pembangunan', 'Jaya']"
            ]
          },
          "metadata": {},
          "execution_count": 50
        }
      ]
    },
    {
      "cell_type": "code",
      "source": [
        "hariAwal = (\"senin\", \"selasa\",\"rabu\")\n",
        "hariAkhir = (\"kamis\", \"jumat\", \"sabtu\")\n",
        "hari = (hariAwal, hariAkhir)\n",
        "print(hari)"
      ],
      "metadata": {
        "colab": {
          "base_uri": "https://localhost:8080/"
        },
        "id": "8LPseayid4VE",
        "outputId": "e98b4f65-c2bb-4ee2-fc6e-ae0fb8ac4e14"
      },
      "execution_count": 52,
      "outputs": [
        {
          "output_type": "stream",
          "name": "stdout",
          "text": [
            "(('senin', 'selasa', 'rabu'), ('kamis', 'jumat', 'sabtu'))\n"
          ]
        }
      ]
    },
    {
      "cell_type": "code",
      "source": [
        "#Nested Tuple\n",
        "nested_tuple = ([100],[200,400,600],[300],[400,800])\n",
        "print(nested_tuple)"
      ],
      "metadata": {
        "colab": {
          "base_uri": "https://localhost:8080/"
        },
        "id": "WEtl4foinUPD",
        "outputId": "89256851-9c2e-42c3-9fb0-ef7fad14648a"
      },
      "execution_count": 53,
      "outputs": [
        {
          "output_type": "stream",
          "name": "stdout",
          "text": [
            "([100], [200, 400, 600], [300], [400, 800])\n"
          ]
        }
      ]
    },
    {
      "cell_type": "code",
      "source": [
        "bin_colors ={\n",
        "\"manual_color\": \"Yellow\",\n",
        "\"approved_color\": \"Green\",\n",
        "\"refused_color\": \"Red\"}\n",
        "\n",
        "print(bin_colors)"
      ],
      "metadata": {
        "colab": {
          "base_uri": "https://localhost:8080/"
        },
        "id": "pcqgITDJnjRm",
        "outputId": "5df0534e-0910-4494-8f9c-335607c1cf4d"
      },
      "execution_count": 54,
      "outputs": [
        {
          "output_type": "stream",
          "name": "stdout",
          "text": [
            "{'manual_color': 'Yellow', 'approved_color': 'Green', 'refused_color': 'Red'}\n"
          ]
        }
      ]
    },
    {
      "cell_type": "code",
      "source": [
        "latihan={\n",
        "    \"Nama\":\"Darren Alfarrel Syawalulail\",\n",
        "    \"NIM\":\"2022071011\",\n",
        "    \"Prodi\":\"Informatika\",\n",
        "    \"Universitas\":\"UPJ\"\n",
        "}\n",
        "print(latihan)"
      ],
      "metadata": {
        "colab": {
          "base_uri": "https://localhost:8080/"
        },
        "id": "yNVEtEr6o07j",
        "outputId": "4f337f02-dcdf-4680-d39f-5a0d7bd2ab5b"
      },
      "execution_count": 55,
      "outputs": [
        {
          "output_type": "stream",
          "name": "stdout",
          "text": [
            "{'Nama': 'Darren Alfarrel Syawalulail', 'NIM': '2022071011', 'Prodi': 'Informatika', 'Universitas': 'UPJ'}\n"
          ]
        }
      ]
    },
    {
      "cell_type": "code",
      "source": [
        "#Inisiasi Set\n",
        "set_01 = {4,5,6,2}\n",
        "print(\"set_01 = \", set_01)\n",
        "\n",
        "#inisiasi mengubah list menjadi set\n",
        "set_02 = set()\n",
        "set_03 = set([2,1,4,3])\n",
        "\n",
        "print(type(set_02))\n",
        "print(\"set_03 = \", set_03)\n",
        "\n",
        "print(\"\\nmenambah\")\n",
        "set_01.add(576)\n",
        "print(set_01)\n",
        "\n",
        "print(\"\\nmenghapus\")\n",
        "set_01.discard(6)\n",
        "print(set_01)\n",
        "\n",
        "print(\"\\nunion\")\n",
        "print(set_01|set_03)\n",
        "\n",
        "print(\"\\nintersection\")\n",
        "print(set_01&set_03)\n",
        "\n",
        "print(\"\\ndifference\")\n",
        "print(set_01-set_03)\n",
        "\n",
        "print(\"\\nsymmetric difference\")\n",
        "print(set_01^set_03)"
      ],
      "metadata": {
        "colab": {
          "base_uri": "https://localhost:8080/"
        },
        "id": "0bU8DAZYwJQd",
        "outputId": "64542396-8339-48b8-bd71-be6ff2e2c59e"
      },
      "execution_count": 62,
      "outputs": [
        {
          "output_type": "stream",
          "name": "stdout",
          "text": [
            "set_01 =  {2, 4, 5, 6}\n",
            "<class 'set'>\n",
            "set_03 =  {1, 2, 3, 4}\n",
            "\n",
            "menambah\n",
            "{576, 2, 4, 5, 6}\n",
            "\n",
            "menghapus\n",
            "{576, 2, 4, 5}\n",
            "\n",
            "union\n",
            "{576, 1, 2, 3, 4, 5}\n",
            "\n",
            "intersection\n",
            "{2, 4}\n",
            "\n",
            "difference\n",
            "{576, 5}\n",
            "\n",
            "symmetric difference\n",
            "{576, 1, 3, 5}\n"
          ]
        }
      ]
    },
    {
      "cell_type": "code",
      "source": [
        "yellow = {'dandelions','leaves','fire hydrant'}\n",
        "red = {'rose','blood','leaves','fire hydrant'}\n",
        "print(yellow|red)\n",
        "print(yellow&red)"
      ],
      "metadata": {
        "colab": {
          "base_uri": "https://localhost:8080/"
        },
        "id": "v4_snhTIo8c7",
        "outputId": "cc7b5559-dbbe-4ee5-d0c2-e38e8f479d79"
      },
      "execution_count": 56,
      "outputs": [
        {
          "output_type": "stream",
          "name": "stdout",
          "text": [
            "{'fire hydrant', 'dandelions', 'rose', 'blood', 'leaves'}\n",
            "{'fire hydrant', 'leaves'}\n"
          ]
        }
      ]
    },
    {
      "cell_type": "code",
      "source": [
        "import pandas as pd\n",
        "\n",
        "df = pd.DataFrame([\n",
        "    [1, \"Informatika\", 50, 30, 20],\n",
        "    [2, \"Sistem Informasi\", 55, 30, 25],\n",
        "    [3, \"Teknik Sipil\", 40, 30, 10]\n",
        "])\n",
        "\n",
        "df.columns = [\"No\", \"Prodi\", \"Mahasiswa\", \"laki-laki\", \"Perempuan\"]\n",
        "df.style.hide(axis='index')"
      ],
      "metadata": {
        "colab": {
          "base_uri": "https://localhost:8080/",
          "height": 143
        },
        "id": "AxRWkiszq8Oc",
        "outputId": "1fa6cff7-f817-4a49-d27b-1d83044db17e"
      },
      "execution_count": 60,
      "outputs": [
        {
          "output_type": "execute_result",
          "data": {
            "text/plain": [
              "<pandas.io.formats.style.Styler at 0x7d0c06fad2d0>"
            ],
            "text/html": [
              "<style type=\"text/css\">\n",
              "</style>\n",
              "<table id=\"T_b9862\" class=\"dataframe\">\n",
              "  <thead>\n",
              "    <tr>\n",
              "      <th id=\"T_b9862_level0_col0\" class=\"col_heading level0 col0\" >No</th>\n",
              "      <th id=\"T_b9862_level0_col1\" class=\"col_heading level0 col1\" >Prodi</th>\n",
              "      <th id=\"T_b9862_level0_col2\" class=\"col_heading level0 col2\" >Mahasiswa</th>\n",
              "      <th id=\"T_b9862_level0_col3\" class=\"col_heading level0 col3\" >laki-laki</th>\n",
              "      <th id=\"T_b9862_level0_col4\" class=\"col_heading level0 col4\" >Perempuan</th>\n",
              "    </tr>\n",
              "  </thead>\n",
              "  <tbody>\n",
              "    <tr>\n",
              "      <td id=\"T_b9862_row0_col0\" class=\"data row0 col0\" >1</td>\n",
              "      <td id=\"T_b9862_row0_col1\" class=\"data row0 col1\" >Informatika</td>\n",
              "      <td id=\"T_b9862_row0_col2\" class=\"data row0 col2\" >50</td>\n",
              "      <td id=\"T_b9862_row0_col3\" class=\"data row0 col3\" >30</td>\n",
              "      <td id=\"T_b9862_row0_col4\" class=\"data row0 col4\" >20</td>\n",
              "    </tr>\n",
              "    <tr>\n",
              "      <td id=\"T_b9862_row1_col0\" class=\"data row1 col0\" >2</td>\n",
              "      <td id=\"T_b9862_row1_col1\" class=\"data row1 col1\" >Sistem Informasi</td>\n",
              "      <td id=\"T_b9862_row1_col2\" class=\"data row1 col2\" >55</td>\n",
              "      <td id=\"T_b9862_row1_col3\" class=\"data row1 col3\" >30</td>\n",
              "      <td id=\"T_b9862_row1_col4\" class=\"data row1 col4\" >25</td>\n",
              "    </tr>\n",
              "    <tr>\n",
              "      <td id=\"T_b9862_row2_col0\" class=\"data row2 col0\" >3</td>\n",
              "      <td id=\"T_b9862_row2_col1\" class=\"data row2 col1\" >Teknik Sipil</td>\n",
              "      <td id=\"T_b9862_row2_col2\" class=\"data row2 col2\" >40</td>\n",
              "      <td id=\"T_b9862_row2_col3\" class=\"data row2 col3\" >30</td>\n",
              "      <td id=\"T_b9862_row2_col4\" class=\"data row2 col4\" >10</td>\n",
              "    </tr>\n",
              "  </tbody>\n",
              "</table>\n"
            ]
          },
          "metadata": {},
          "execution_count": 60
        }
      ]
    },
    {
      "cell_type": "code",
      "source": [
        "import numpy as np\n",
        "\n",
        "matrix = np.array([\n",
        "    [100, 200, 300],\n",
        "    [700, 600, 500],\n",
        "    [900, 1000, 800]\n",
        "    ])\n",
        "\n",
        "print(matrix)\n",
        "\n",
        "print(\"\\nTranspose:\")\n",
        "print(matrix.T)"
      ],
      "metadata": {
        "colab": {
          "base_uri": "https://localhost:8080/"
        },
        "id": "12813Dh5v9cr",
        "outputId": "dbecc602-ab89-4291-e8db-bd08dcbd89a4"
      },
      "execution_count": 61,
      "outputs": [
        {
          "output_type": "stream",
          "name": "stdout",
          "text": [
            "[[ 100  200  300]\n",
            " [ 700  600  500]\n",
            " [ 900 1000  800]]\n",
            "\n",
            "Transpose:\n",
            "[[ 100  700  900]\n",
            " [ 200  600 1000]\n",
            " [ 300  500  800]]\n"
          ]
        }
      ]
    }
  ]
}